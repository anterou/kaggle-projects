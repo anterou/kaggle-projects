{
 "cells": [
  {
   "cell_type": "code",
   "execution_count": 1,
   "id": "661f830b",
   "metadata": {
    "_cell_guid": "ebeeeb07-afbe-4121-beeb-b2e024174805",
    "_uuid": "154226de-d723-4f2f-9004-a38b7fe069db",
    "collapsed": false,
    "execution": {
     "iopub.execute_input": "2023-11-19T18:39:24.212539Z",
     "iopub.status.busy": "2023-11-19T18:39:24.212160Z",
     "iopub.status.idle": "2023-11-19T18:39:27.778297Z",
     "shell.execute_reply": "2023-11-19T18:39:27.777235Z"
    },
    "jupyter": {
     "outputs_hidden": false
    },
    "papermill": {
     "duration": 3.576091,
     "end_time": "2023-11-19T18:39:27.780994",
     "exception": false,
     "start_time": "2023-11-19T18:39:24.204903",
     "status": "completed"
    },
    "tags": []
   },
   "outputs": [
    {
     "name": "stdout",
     "output_type": "stream",
     "text": [
      "/kaggle/input/house-prices-advanced-regression-techniques/sample_submission.csv\n",
      "/kaggle/input/house-prices-advanced-regression-techniques/data_description.txt\n",
      "/kaggle/input/house-prices-advanced-regression-techniques/train.csv\n",
      "/kaggle/input/house-prices-advanced-regression-techniques/test.csv\n"
     ]
    }
   ],
   "source": [
    "# This Python 3 environment comes with many helpful analytics libraries installed\n",
    "# It is defined by the kaggle/python Docker image: https://github.com/kaggle/docker-python\n",
    "# For example, here's several helpful packages to load\n",
    "\n",
    "import numpy as np # linear algebra\n",
    "import pandas as pd # data processing, CSV file I/O (e.g. pd.read_csv)\n",
    "from sklearn.ensemble import RandomForestRegressor\n",
    "from sklearn.model_selection import train_test_split\n",
    "\n",
    "\n",
    "# Input data files are available in the read-only \"../input/\" directory\n",
    "# For example, running this (by clicking run or pressing Shift+Enter) will list all files under the input directory\n",
    "\n",
    "import os\n",
    "for dirname, _, filenames in os.walk('/kaggle/input'):\n",
    "    for filename in filenames:\n",
    "        print(os.path.join(dirname, filename))\n",
    "from sklearn.preprocessing import LabelEncoder\n",
    "# You can write up to 20GB to the current directory (/kaggle/working/) that gets preserved as output when you create a version using \"Save & Run All\" \n",
    "# You can also write temporary files to /kaggle/temp/, but they won't be saved outside of the current session\n",
    "from sklearn.model_selection import GridSearchCV\n",
    "import optuna\n",
    "from sklearn.metrics import accuracy_score, mean_absolute_error\n",
    "#libs we need"
   ]
  },
  {
   "cell_type": "code",
   "execution_count": 2,
   "id": "9725a544",
   "metadata": {
    "_cell_guid": "d9dd4853-e6c4-459d-9817-d230a7370db9",
    "_uuid": "baa0f048-21a0-4bad-a05a-7806c9630b37",
    "collapsed": false,
    "execution": {
     "iopub.execute_input": "2023-11-19T18:39:27.794857Z",
     "iopub.status.busy": "2023-11-19T18:39:27.794294Z",
     "iopub.status.idle": "2023-11-19T18:39:28.455910Z",
     "shell.execute_reply": "2023-11-19T18:39:28.454892Z"
    },
    "jupyter": {
     "outputs_hidden": false
    },
    "papermill": {
     "duration": 0.67061,
     "end_time": "2023-11-19T18:39:28.458599",
     "exception": false,
     "start_time": "2023-11-19T18:39:27.787989",
     "status": "completed"
    },
    "tags": []
   },
   "outputs": [],
   "source": [
    "train_df = pd.read_csv(\"/kaggle/input/house-prices-advanced-regression-techniques/train.csv\")\n",
    "test_df = pd.read_csv('/kaggle/input/house-prices-advanced-regression-techniques/test.csv')\n",
    "import seaborn as sns\n",
    "train_df = train_df.drop(['Id', 'SaleType', 'SaleCondition'], axis = 1)\n",
    "select_obj = train_df.select_dtypes('object').columns\n",
    "for i in select_obj:\n",
    "    train_df[i] = LabelEncoder().fit_transform(train_df[i])\n",
    "    test_df[i] = LabelEncoder().fit_transform(test_df[i])\n",
    "for x in train_df.columns:\n",
    "    if train_df[x].isnull().sum() > 500:train_df = train_df.drop(x, axis = 1)\n",
    "    else:\n",
    "        train_df[x] = train_df[x].fillna(train_df[x].median())\n",
    "        if x!= \"SalePrice\": test_df.fillna(test_df[x].median())"
   ]
  },
  {
   "cell_type": "code",
   "execution_count": 3,
   "id": "ea3873bf",
   "metadata": {
    "_cell_guid": "e38f9b91-9da9-4b38-9d15-882b747c8021",
    "_uuid": "75cba1f1-f0b6-4ee4-9b89-1511120d818c",
    "collapsed": false,
    "execution": {
     "iopub.execute_input": "2023-11-19T18:39:28.470474Z",
     "iopub.status.busy": "2023-11-19T18:39:28.470091Z",
     "iopub.status.idle": "2023-11-19T18:39:28.479863Z",
     "shell.execute_reply": "2023-11-19T18:39:28.478718Z"
    },
    "jupyter": {
     "outputs_hidden": false
    },
    "papermill": {
     "duration": 0.018795,
     "end_time": "2023-11-19T18:39:28.482513",
     "exception": false,
     "start_time": "2023-11-19T18:39:28.463718",
     "status": "completed"
    },
    "tags": []
   },
   "outputs": [],
   "source": [
    "X, y = train_df.drop('SalePrice', axis = 1), (train_df['SalePrice'])"
   ]
  },
  {
   "cell_type": "code",
   "execution_count": 4,
   "id": "770f8279",
   "metadata": {
    "_cell_guid": "921a32aa-ff94-468f-ad6b-b2e46a0b8724",
    "_uuid": "582f1d2b-20ca-41bf-a995-908f20ab558c",
    "collapsed": false,
    "execution": {
     "iopub.execute_input": "2023-11-19T18:39:28.494586Z",
     "iopub.status.busy": "2023-11-19T18:39:28.494190Z",
     "iopub.status.idle": "2023-11-19T18:39:28.501503Z",
     "shell.execute_reply": "2023-11-19T18:39:28.500399Z"
    },
    "jupyter": {
     "outputs_hidden": false
    },
    "papermill": {
     "duration": 0.015913,
     "end_time": "2023-11-19T18:39:28.503774",
     "exception": false,
     "start_time": "2023-11-19T18:39:28.487861",
     "status": "completed"
    },
    "tags": []
   },
   "outputs": [],
   "source": [
    "def objective(trial):\n",
    "    # Определение параметров, подлежащих оптимизации\n",
    "    n_estimators = trial.suggest_int('n_estimators', 10, 100)\n",
    "    max_depth = trial.suggest_int('max_depth', 2, 10)\n",
    "    min_samples_split = trial.suggest_int('min_samples_split', 2, 10)\n",
    "    model = RandomForestRegressor(n_estimators=n_estimators, max_depth=max_depth, min_samples_split=min_samples_split)\n",
    "    train_X, val_X, train_y, val_y = train_test_split(X, y, random_state = 2)\n",
    "    model.fit(train_X, train_y)\n",
    "    y_pred = model.predict(val_X)\n",
    "    accuracy = mean_absolute_error(val_y, y_pred)\n",
    "    return accuracy"
   ]
  },
  {
   "cell_type": "code",
   "execution_count": 5,
   "id": "84f04263",
   "metadata": {
    "_cell_guid": "01dcaa0f-0d9f-4441-9abc-188dea06c45c",
    "_uuid": "9bfff93f-d3c6-4b24-bea4-6fa4efc6cd74",
    "collapsed": false,
    "execution": {
     "iopub.execute_input": "2023-11-19T18:39:28.515211Z",
     "iopub.status.busy": "2023-11-19T18:39:28.514830Z",
     "iopub.status.idle": "2023-11-19T18:41:12.589760Z",
     "shell.execute_reply": "2023-11-19T18:41:12.588385Z"
    },
    "jupyter": {
     "outputs_hidden": false
    },
    "papermill": {
     "duration": 104.08366,
     "end_time": "2023-11-19T18:41:12.592358",
     "exception": false,
     "start_time": "2023-11-19T18:39:28.508698",
     "status": "completed"
    },
    "tags": []
   },
   "outputs": [
    {
     "name": "stderr",
     "output_type": "stream",
     "text": [
      "[I 2023-11-19 18:39:28,516] A new study created in memory with name: no-name-7d7937c5-61f9-4800-b5ab-512c531a9704\n",
      "[I 2023-11-19 18:39:28,826] Trial 0 finished with value: 21689.769667108347 and parameters: {'n_estimators': 27, 'max_depth': 7, 'min_samples_split': 10}. Best is trial 0 with value: 21689.769667108347.\n",
      "[I 2023-11-19 18:39:29,431] Trial 1 finished with value: 22301.1279169329 and parameters: {'n_estimators': 57, 'max_depth': 6, 'min_samples_split': 8}. Best is trial 0 with value: 21689.769667108347.\n",
      "[I 2023-11-19 18:39:30,171] Trial 2 finished with value: 21154.280545201436 and parameters: {'n_estimators': 64, 'max_depth': 7, 'min_samples_split': 2}. Best is trial 2 with value: 21154.280545201436.\n",
      "[I 2023-11-19 18:39:31,175] Trial 3 finished with value: 21281.158074941824 and parameters: {'n_estimators': 89, 'max_depth': 7, 'min_samples_split': 2}. Best is trial 2 with value: 21154.280545201436.\n",
      "[I 2023-11-19 18:39:31,300] Trial 4 finished with value: 32335.882133419425 and parameters: {'n_estimators': 23, 'max_depth': 2, 'min_samples_split': 7}. Best is trial 2 with value: 21154.280545201436.\n",
      "[I 2023-11-19 18:39:31,422] Trial 5 finished with value: 24301.119736457862 and parameters: {'n_estimators': 12, 'max_depth': 5, 'min_samples_split': 2}. Best is trial 2 with value: 21154.280545201436.\n",
      "[I 2023-11-19 18:39:31,535] Trial 6 finished with value: 25624.123023975033 and parameters: {'n_estimators': 13, 'max_depth': 4, 'min_samples_split': 7}. Best is trial 2 with value: 21154.280545201436.\n",
      "[I 2023-11-19 18:39:32,448] Trial 7 finished with value: 21570.392103666665 and parameters: {'n_estimators': 84, 'max_depth': 7, 'min_samples_split': 10}. Best is trial 2 with value: 21154.280545201436.\n",
      "[I 2023-11-19 18:39:33,810] Trial 8 finished with value: 20424.774903666595 and parameters: {'n_estimators': 98, 'max_depth': 10, 'min_samples_split': 7}. Best is trial 8 with value: 20424.774903666595.\n",
      "[I 2023-11-19 18:39:34,976] Trial 9 finished with value: 20372.840993082074 and parameters: {'n_estimators': 88, 'max_depth': 9, 'min_samples_split': 6}. Best is trial 9 with value: 20372.840993082074.\n",
      "[I 2023-11-19 18:39:36,051] Trial 10 finished with value: 20455.23083788648 and parameters: {'n_estimators': 72, 'max_depth': 10, 'min_samples_split': 4}. Best is trial 9 with value: 20372.840993082074.\n",
      "[I 2023-11-19 18:39:37,479] Trial 11 finished with value: 20352.656832892535 and parameters: {'n_estimators': 100, 'max_depth': 10, 'min_samples_split': 5}. Best is trial 11 with value: 20352.656832892535.\n",
      "[I 2023-11-19 18:39:38,827] Trial 12 finished with value: 20872.497217765107 and parameters: {'n_estimators': 100, 'max_depth': 9, 'min_samples_split': 5}. Best is trial 11 with value: 20352.656832892535.\n",
      "[I 2023-11-19 18:39:39,442] Trial 13 finished with value: 20746.32555771041 and parameters: {'n_estimators': 41, 'max_depth': 9, 'min_samples_split': 4}. Best is trial 11 with value: 20352.656832892535.\n",
      "[I 2023-11-19 18:39:40,502] Trial 14 finished with value: 20514.403589929876 and parameters: {'n_estimators': 78, 'max_depth': 9, 'min_samples_split': 5}. Best is trial 11 with value: 20352.656832892535.\n",
      "[I 2023-11-19 18:39:41,647] Trial 15 finished with value: 21567.01730743658 and parameters: {'n_estimators': 92, 'max_depth': 8, 'min_samples_split': 5}. Best is trial 11 with value: 20352.656832892535.\n",
      "[I 2023-11-19 18:39:42,660] Trial 16 finished with value: 20733.65344982205 and parameters: {'n_estimators': 73, 'max_depth': 10, 'min_samples_split': 8}. Best is trial 11 with value: 20352.656832892535.\n",
      "[I 2023-11-19 18:39:43,278] Trial 17 finished with value: 20625.007728845874 and parameters: {'n_estimators': 47, 'max_depth': 8, 'min_samples_split': 4}. Best is trial 11 with value: 20352.656832892535.\n",
      "[I 2023-11-19 18:39:43,801] Trial 18 finished with value: 27731.174620605507 and parameters: {'n_estimators': 83, 'max_depth': 3, 'min_samples_split': 6}. Best is trial 11 with value: 20352.656832892535.\n",
      "[I 2023-11-19 18:39:44,604] Trial 19 finished with value: 20580.4802774141 and parameters: {'n_estimators': 62, 'max_depth': 8, 'min_samples_split': 3}. Best is trial 11 with value: 20352.656832892535.\n",
      "[I 2023-11-19 18:39:45,846] Trial 20 finished with value: 20759.560272376366 and parameters: {'n_estimators': 94, 'max_depth': 9, 'min_samples_split': 6}. Best is trial 11 with value: 20352.656832892535.\n",
      "[I 2023-11-19 18:39:47,204] Trial 21 finished with value: 21111.298382603425 and parameters: {'n_estimators': 99, 'max_depth': 10, 'min_samples_split': 7}. Best is trial 11 with value: 20352.656832892535.\n",
      "[I 2023-11-19 18:39:48,559] Trial 22 finished with value: 20969.186589027064 and parameters: {'n_estimators': 100, 'max_depth': 10, 'min_samples_split': 8}. Best is trial 11 with value: 20352.656832892535.\n",
      "[I 2023-11-19 18:39:49,788] Trial 23 finished with value: 20632.573696623396 and parameters: {'n_estimators': 87, 'max_depth': 10, 'min_samples_split': 6}. Best is trial 11 with value: 20352.656832892535.\n",
      "[I 2023-11-19 18:39:50,805] Trial 24 finished with value: 20927.559553266554 and parameters: {'n_estimators': 77, 'max_depth': 9, 'min_samples_split': 9}. Best is trial 11 with value: 20352.656832892535.\n",
      "[I 2023-11-19 18:39:51,965] Trial 25 finished with value: 21189.017051540908 and parameters: {'n_estimators': 94, 'max_depth': 8, 'min_samples_split': 7}. Best is trial 11 with value: 20352.656832892535.\n",
      "[I 2023-11-19 18:39:53,156] Trial 26 finished with value: 20799.77575236265 and parameters: {'n_estimators': 82, 'max_depth': 10, 'min_samples_split': 5}. Best is trial 11 with value: 20352.656832892535.\n",
      "[I 2023-11-19 18:39:53,861] Trial 27 finished with value: 22245.286261124074 and parameters: {'n_estimators': 68, 'max_depth': 6, 'min_samples_split': 6}. Best is trial 11 with value: 20352.656832892535.\n",
      "[I 2023-11-19 18:39:55,035] Trial 28 finished with value: 20827.045575466487 and parameters: {'n_estimators': 92, 'max_depth': 9, 'min_samples_split': 9}. Best is trial 11 with value: 20352.656832892535.\n",
      "[I 2023-11-19 18:39:55,506] Trial 29 finished with value: 21364.20303462 and parameters: {'n_estimators': 35, 'max_depth': 8, 'min_samples_split': 6}. Best is trial 11 with value: 20352.656832892535.\n",
      "[I 2023-11-19 18:39:55,968] Trial 30 finished with value: 23563.145642374537 and parameters: {'n_estimators': 50, 'max_depth': 5, 'min_samples_split': 3}. Best is trial 11 with value: 20352.656832892535.\n",
      "[I 2023-11-19 18:39:57,038] Trial 31 finished with value: 20451.22722391068 and parameters: {'n_estimators': 72, 'max_depth': 10, 'min_samples_split': 4}. Best is trial 11 with value: 20352.656832892535.\n",
      "[I 2023-11-19 18:39:58,191] Trial 32 finished with value: 20455.166277151216 and parameters: {'n_estimators': 78, 'max_depth': 10, 'min_samples_split': 4}. Best is trial 11 with value: 20352.656832892535.\n",
      "[I 2023-11-19 18:39:59,435] Trial 33 finished with value: 21046.124234693 and parameters: {'n_estimators': 87, 'max_depth': 9, 'min_samples_split': 3}. Best is trial 11 with value: 20352.656832892535.\n",
      "[I 2023-11-19 18:40:00,318] Trial 34 finished with value: 20736.06434501597 and parameters: {'n_estimators': 59, 'max_depth': 10, 'min_samples_split': 5}. Best is trial 11 with value: 20352.656832892535.\n",
      "[I 2023-11-19 18:40:01,569] Trial 35 finished with value: 20728.54561672727 and parameters: {'n_estimators': 95, 'max_depth': 9, 'min_samples_split': 8}. Best is trial 11 with value: 20352.656832892535.\n",
      "[I 2023-11-19 18:40:02,539] Trial 36 finished with value: 20374.729675545437 and parameters: {'n_estimators': 69, 'max_depth': 10, 'min_samples_split': 7}. Best is trial 11 with value: 20352.656832892535.\n",
      "[I 2023-11-19 18:40:03,222] Trial 37 finished with value: 21677.536122021538 and parameters: {'n_estimators': 67, 'max_depth': 6, 'min_samples_split': 7}. Best is trial 11 with value: 20352.656832892535.\n",
      "[I 2023-11-19 18:40:04,260] Trial 38 finished with value: 21138.554879121017 and parameters: {'n_estimators': 89, 'max_depth': 7, 'min_samples_split': 8}. Best is trial 11 with value: 20352.656832892535.\n",
      "[I 2023-11-19 18:40:05,352] Trial 39 finished with value: 21488.064554738245 and parameters: {'n_estimators': 96, 'max_depth': 7, 'min_samples_split': 7}. Best is trial 11 with value: 20352.656832892535.\n",
      "[I 2023-11-19 18:40:05,768] Trial 40 finished with value: 32333.049048711746 and parameters: {'n_estimators': 83, 'max_depth': 2, 'min_samples_split': 9}. Best is trial 11 with value: 20352.656832892535.\n",
      "[I 2023-11-19 18:40:06,532] Trial 41 finished with value: 20874.013587418765 and parameters: {'n_estimators': 53, 'max_depth': 10, 'min_samples_split': 7}. Best is trial 11 with value: 20352.656832892535.\n",
      "[I 2023-11-19 18:40:07,620] Trial 42 finished with value: 20509.274407391193 and parameters: {'n_estimators': 75, 'max_depth': 10, 'min_samples_split': 5}. Best is trial 11 with value: 20352.656832892535.\n",
      "[I 2023-11-19 18:40:08,558] Trial 43 finished with value: 20986.98101597896 and parameters: {'n_estimators': 69, 'max_depth': 9, 'min_samples_split': 6}. Best is trial 11 with value: 20352.656832892535.\n",
      "[I 2023-11-19 18:40:09,896] Trial 44 finished with value: 20668.658180705726 and parameters: {'n_estimators': 89, 'max_depth': 10, 'min_samples_split': 4}. Best is trial 11 with value: 20352.656832892535.\n",
      "[I 2023-11-19 18:40:10,782] Trial 45 finished with value: 20674.570262916284 and parameters: {'n_estimators': 64, 'max_depth': 9, 'min_samples_split': 6}. Best is trial 11 with value: 20352.656832892535.\n",
      "[I 2023-11-19 18:40:11,955] Trial 46 finished with value: 20957.17156953627 and parameters: {'n_estimators': 81, 'max_depth': 10, 'min_samples_split': 5}. Best is trial 11 with value: 20352.656832892535.\n",
      "[I 2023-11-19 18:40:12,683] Trial 47 finished with value: 21111.844939835042 and parameters: {'n_estimators': 57, 'max_depth': 8, 'min_samples_split': 7}. Best is trial 11 with value: 20352.656832892535.\n",
      "[I 2023-11-19 18:40:14,030] Trial 48 finished with value: 20573.38299607651 and parameters: {'n_estimators': 98, 'max_depth': 9, 'min_samples_split': 4}. Best is trial 11 with value: 20352.656832892535.\n",
      "[I 2023-11-19 18:40:14,501] Trial 49 finished with value: 27407.49993695779 and parameters: {'n_estimators': 71, 'max_depth': 3, 'min_samples_split': 2}. Best is trial 11 with value: 20352.656832892535.\n",
      "[I 2023-11-19 18:40:15,780] Trial 50 finished with value: 20539.409784318705 and parameters: {'n_estimators': 92, 'max_depth': 10, 'min_samples_split': 8}. Best is trial 11 with value: 20352.656832892535.\n",
      "[I 2023-11-19 18:40:16,942] Trial 51 finished with value: 20915.666755312508 and parameters: {'n_estimators': 76, 'max_depth': 10, 'min_samples_split': 3}. Best is trial 11 with value: 20352.656832892535.\n",
      "[I 2023-11-19 18:40:18,253] Trial 52 finished with value: 20510.06686265408 and parameters: {'n_estimators': 87, 'max_depth': 10, 'min_samples_split': 4}. Best is trial 11 with value: 20352.656832892535.\n",
      "[I 2023-11-19 18:40:19,379] Trial 53 finished with value: 20974.8934175315 and parameters: {'n_estimators': 79, 'max_depth': 9, 'min_samples_split': 4}. Best is trial 11 with value: 20352.656832892535.\n",
      "[I 2023-11-19 18:40:20,620] Trial 54 finished with value: 20360.28128186223 and parameters: {'n_estimators': 85, 'max_depth': 10, 'min_samples_split': 5}. Best is trial 11 with value: 20352.656832892535.\n",
      "[I 2023-11-19 18:40:21,811] Trial 55 finished with value: 20550.25677613511 and parameters: {'n_estimators': 86, 'max_depth': 9, 'min_samples_split': 5}. Best is trial 11 with value: 20352.656832892535.\n",
      "[I 2023-11-19 18:40:23,164] Trial 56 finished with value: 20436.121781034104 and parameters: {'n_estimators': 92, 'max_depth': 10, 'min_samples_split': 5}. Best is trial 11 with value: 20352.656832892535.\n",
      "[I 2023-11-19 18:40:24,599] Trial 57 finished with value: 20467.673641039764 and parameters: {'n_estimators': 100, 'max_depth': 10, 'min_samples_split': 6}. Best is trial 11 with value: 20352.656832892535.\n",
      "[I 2023-11-19 18:40:25,842] Trial 58 finished with value: 20360.20036814561 and parameters: {'n_estimators': 92, 'max_depth': 9, 'min_samples_split': 6}. Best is trial 11 with value: 20352.656832892535.\n",
      "[I 2023-11-19 18:40:27,053] Trial 59 finished with value: 20881.548477101373 and parameters: {'n_estimators': 97, 'max_depth': 8, 'min_samples_split': 6}. Best is trial 11 with value: 20352.656832892535.\n",
      "[I 2023-11-19 18:40:27,326] Trial 60 finished with value: 20998.05864232531 and parameters: {'n_estimators': 17, 'max_depth': 9, 'min_samples_split': 6}. Best is trial 11 with value: 20352.656832892535.\n",
      "[I 2023-11-19 18:40:28,651] Trial 61 finished with value: 21016.100264617675 and parameters: {'n_estimators': 91, 'max_depth': 10, 'min_samples_split': 5}. Best is trial 11 with value: 20352.656832892535.\n",
      "[I 2023-11-19 18:40:29,944] Trial 62 finished with value: 20757.077364435707 and parameters: {'n_estimators': 96, 'max_depth': 9, 'min_samples_split': 7}. Best is trial 11 with value: 20352.656832892535.\n",
      "[I 2023-11-19 18:40:31,179] Trial 63 finished with value: 20289.89293244916 and parameters: {'n_estimators': 85, 'max_depth': 10, 'min_samples_split': 5}. Best is trial 63 with value: 20289.89293244916.\n",
      "[I 2023-11-19 18:40:32,390] Trial 64 finished with value: 20712.936106536865 and parameters: {'n_estimators': 90, 'max_depth': 9, 'min_samples_split': 6}. Best is trial 63 with value: 20289.89293244916.\n",
      "[I 2023-11-19 18:40:33,155] Trial 65 finished with value: 23949.606303433222 and parameters: {'n_estimators': 85, 'max_depth': 5, 'min_samples_split': 5}. Best is trial 63 with value: 20289.89293244916.\n",
      "[I 2023-11-19 18:40:34,322] Trial 66 finished with value: 20711.548124278033 and parameters: {'n_estimators': 94, 'max_depth': 8, 'min_samples_split': 7}. Best is trial 63 with value: 20289.89293244916.\n",
      "[I 2023-11-19 18:40:35,516] Trial 67 finished with value: 20201.02022164323 and parameters: {'n_estimators': 81, 'max_depth': 10, 'min_samples_split': 6}. Best is trial 67 with value: 20201.02022164323.\n",
      "[I 2023-11-19 18:40:36,694] Trial 68 finished with value: 20290.58711838338 and parameters: {'n_estimators': 82, 'max_depth': 10, 'min_samples_split': 6}. Best is trial 67 with value: 20201.02022164323.\n",
      "[I 2023-11-19 18:40:37,827] Trial 69 finished with value: 21052.30021394172 and parameters: {'n_estimators': 82, 'max_depth': 9, 'min_samples_split': 5}. Best is trial 67 with value: 20201.02022164323.\n",
      "[I 2023-11-19 18:40:38,983] Trial 70 finished with value: 20355.583553511056 and parameters: {'n_estimators': 80, 'max_depth': 10, 'min_samples_split': 6}. Best is trial 67 with value: 20201.02022164323.\n",
      "[I 2023-11-19 18:40:40,158] Trial 71 finished with value: 20256.89504494969 and parameters: {'n_estimators': 80, 'max_depth': 10, 'min_samples_split': 6}. Best is trial 67 with value: 20201.02022164323.\n",
      "[I 2023-11-19 18:40:41,303] Trial 72 finished with value: 20561.96278647797 and parameters: {'n_estimators': 80, 'max_depth': 10, 'min_samples_split': 6}. Best is trial 67 with value: 20201.02022164323.\n",
      "[I 2023-11-19 18:40:42,369] Trial 73 finished with value: 20777.450921815245 and parameters: {'n_estimators': 74, 'max_depth': 10, 'min_samples_split': 6}. Best is trial 67 with value: 20201.02022164323.\n",
      "[I 2023-11-19 18:40:43,592] Trial 74 finished with value: 20631.76680889432 and parameters: {'n_estimators': 84, 'max_depth': 10, 'min_samples_split': 5}. Best is trial 67 with value: 20201.02022164323.\n",
      "[I 2023-11-19 18:40:44,736] Trial 75 finished with value: 20335.032455201104 and parameters: {'n_estimators': 79, 'max_depth': 10, 'min_samples_split': 6}. Best is trial 67 with value: 20201.02022164323.\n",
      "[I 2023-11-19 18:40:45,845] Trial 76 finished with value: 20783.193647691078 and parameters: {'n_estimators': 77, 'max_depth': 10, 'min_samples_split': 6}. Best is trial 67 with value: 20201.02022164323.\n",
      "[I 2023-11-19 18:40:46,996] Trial 77 finished with value: 20585.497682578916 and parameters: {'n_estimators': 80, 'max_depth': 10, 'min_samples_split': 6}. Best is trial 67 with value: 20201.02022164323.\n",
      "[I 2023-11-19 18:40:48,194] Trial 78 finished with value: 20197.404783420083 and parameters: {'n_estimators': 88, 'max_depth': 9, 'min_samples_split': 6}. Best is trial 78 with value: 20197.404783420083.\n",
      "[I 2023-11-19 18:40:48,745] Trial 79 finished with value: 20557.170529000232 and parameters: {'n_estimators': 37, 'max_depth': 10, 'min_samples_split': 7}. Best is trial 78 with value: 20197.404783420083.\n",
      "[I 2023-11-19 18:40:49,788] Trial 80 finished with value: 21054.96118177013 and parameters: {'n_estimators': 74, 'max_depth': 9, 'min_samples_split': 6}. Best is trial 78 with value: 20197.404783420083.\n",
      "[I 2023-11-19 18:40:50,988] Trial 81 finished with value: 20913.391968566433 and parameters: {'n_estimators': 89, 'max_depth': 9, 'min_samples_split': 6}. Best is trial 78 with value: 20197.404783420083.\n",
      "[I 2023-11-19 18:40:52,163] Trial 82 finished with value: 20447.994575755558 and parameters: {'n_estimators': 82, 'max_depth': 10, 'min_samples_split': 6}. Best is trial 78 with value: 20197.404783420083.\n",
      "[I 2023-11-19 18:40:53,308] Trial 83 finished with value: 20486.158901567764 and parameters: {'n_estimators': 78, 'max_depth': 10, 'min_samples_split': 5}. Best is trial 78 with value: 20197.404783420083.\n",
      "[I 2023-11-19 18:40:54,498] Trial 84 finished with value: 20478.4247700428 and parameters: {'n_estimators': 87, 'max_depth': 9, 'min_samples_split': 6}. Best is trial 78 with value: 20197.404783420083.\n",
      "[I 2023-11-19 18:40:55,669] Trial 85 finished with value: 20434.229289195853 and parameters: {'n_estimators': 83, 'max_depth': 10, 'min_samples_split': 7}. Best is trial 78 with value: 20197.404783420083.\n",
      "[I 2023-11-19 18:40:57,015] Trial 86 finished with value: 20377.78033938695 and parameters: {'n_estimators': 94, 'max_depth': 10, 'min_samples_split': 6}. Best is trial 78 with value: 20197.404783420083.\n",
      "[I 2023-11-19 18:40:57,913] Trial 87 finished with value: 20755.935159784352 and parameters: {'n_estimators': 64, 'max_depth': 9, 'min_samples_split': 5}. Best is trial 78 with value: 20197.404783420083.\n",
      "[I 2023-11-19 18:40:59,223] Trial 88 finished with value: 20327.143043667536 and parameters: {'n_estimators': 91, 'max_depth': 10, 'min_samples_split': 6}. Best is trial 78 with value: 20197.404783420083.\n",
      "[I 2023-11-19 18:41:00,493] Trial 89 finished with value: 20695.567503737213 and parameters: {'n_estimators': 85, 'max_depth': 10, 'min_samples_split': 5}. Best is trial 78 with value: 20197.404783420083.\n",
      "[I 2023-11-19 18:41:00,916] Trial 90 finished with value: 20369.148593015296 and parameters: {'n_estimators': 27, 'max_depth': 10, 'min_samples_split': 7}. Best is trial 78 with value: 20197.404783420083.\n",
      "[I 2023-11-19 18:41:02,214] Trial 91 finished with value: 20531.406991146807 and parameters: {'n_estimators': 91, 'max_depth': 10, 'min_samples_split': 6}. Best is trial 78 with value: 20197.404783420083.\n",
      "[I 2023-11-19 18:41:03,409] Trial 92 finished with value: 20656.583040188725 and parameters: {'n_estimators': 88, 'max_depth': 9, 'min_samples_split': 6}. Best is trial 78 with value: 20197.404783420083.\n",
      "[I 2023-11-19 18:41:04,747] Trial 93 finished with value: 20384.782352134727 and parameters: {'n_estimators': 93, 'max_depth': 10, 'min_samples_split': 6}. Best is trial 78 with value: 20197.404783420083.\n",
      "[I 2023-11-19 18:41:06,151] Trial 94 finished with value: 20315.064078258296 and parameters: {'n_estimators': 98, 'max_depth': 10, 'min_samples_split': 6}. Best is trial 78 with value: 20197.404783420083.\n",
      "[I 2023-11-19 18:41:07,606] Trial 95 finished with value: 20704.66197800392 and parameters: {'n_estimators': 98, 'max_depth': 10, 'min_samples_split': 6}. Best is trial 78 with value: 20197.404783420083.\n",
      "[I 2023-11-19 18:41:09,049] Trial 96 finished with value: 20722.772185773953 and parameters: {'n_estimators': 100, 'max_depth': 10, 'min_samples_split': 5}. Best is trial 78 with value: 20197.404783420083.\n",
      "[I 2023-11-19 18:41:10,105] Trial 97 finished with value: 20832.10657298901 and parameters: {'n_estimators': 71, 'max_depth': 10, 'min_samples_split': 6}. Best is trial 78 with value: 20197.404783420083.\n",
      "[I 2023-11-19 18:41:11,192] Trial 98 finished with value: 20744.70225522971 and parameters: {'n_estimators': 76, 'max_depth': 10, 'min_samples_split': 7}. Best is trial 78 with value: 20197.404783420083.\n",
      "[I 2023-11-19 18:41:12,585] Trial 99 finished with value: 20165.338883568184 and parameters: {'n_estimators': 96, 'max_depth': 10, 'min_samples_split': 5}. Best is trial 99 with value: 20165.338883568184.\n"
     ]
    }
   ],
   "source": [
    "study = optuna.create_study(direction='minimize')\n",
    "study.optimize(objective, n_trials = 100)"
   ]
  },
  {
   "cell_type": "code",
   "execution_count": 6,
   "id": "867daa79",
   "metadata": {
    "_cell_guid": "63c8845e-b59d-4ad4-95e0-8157df171496",
    "_uuid": "c07d667d-5644-4064-9af6-f7088bfd3139",
    "collapsed": false,
    "execution": {
     "iopub.execute_input": "2023-11-19T18:41:12.623141Z",
     "iopub.status.busy": "2023-11-19T18:41:12.622739Z",
     "iopub.status.idle": "2023-11-19T18:41:12.628953Z",
     "shell.execute_reply": "2023-11-19T18:41:12.627703Z"
    },
    "jupyter": {
     "outputs_hidden": false
    },
    "papermill": {
     "duration": 0.024694,
     "end_time": "2023-11-19T18:41:12.631564",
     "exception": false,
     "start_time": "2023-11-19T18:41:12.606870",
     "status": "completed"
    },
    "tags": []
   },
   "outputs": [
    {
     "name": "stdout",
     "output_type": "stream",
     "text": [
      "{'n_estimators': 96, 'max_depth': 10, 'min_samples_split': 5}\n",
      "20165.338883568184\n"
     ]
    }
   ],
   "source": [
    "print(study.best_params)\n",
    "print(study.best_value)"
   ]
  },
  {
   "cell_type": "code",
   "execution_count": 7,
   "id": "29e256b0",
   "metadata": {
    "execution": {
     "iopub.execute_input": "2023-11-19T18:41:12.662171Z",
     "iopub.status.busy": "2023-11-19T18:41:12.661774Z",
     "iopub.status.idle": "2023-11-19T18:41:13.988970Z",
     "shell.execute_reply": "2023-11-19T18:41:13.987980Z"
    },
    "papermill": {
     "duration": 1.345792,
     "end_time": "2023-11-19T18:41:13.991777",
     "exception": false,
     "start_time": "2023-11-19T18:41:12.645985",
     "status": "completed"
    },
    "tags": []
   },
   "outputs": [],
   "source": [
    "final_model = RandomForestRegressor(n_estimators= 71, max_depth = 10, min_samples_split = 6)\n",
    "features = test_df.drop(['Id', 'SaleType', 'SaleCondition'], axis = 1).columns\n",
    "final_model.fit(X, y)\n",
    "for x in test_df[features]:\n",
    "    if test_df[x].isnull().sum() > 500:test_df = test_df.drop(x, axis = 1)\n",
    "    else:\n",
    "        test_df[x] = test_df[x].fillna(test_df[x].median())\n",
    "X = test_df[features].ffill()\n"
   ]
  },
  {
   "cell_type": "code",
   "execution_count": 8,
   "id": "31ab75b6",
   "metadata": {
    "execution": {
     "iopub.execute_input": "2023-11-19T18:41:14.022739Z",
     "iopub.status.busy": "2023-11-19T18:41:14.022288Z",
     "iopub.status.idle": "2023-11-19T18:41:14.049482Z",
     "shell.execute_reply": "2023-11-19T18:41:14.048342Z"
    },
    "papermill": {
     "duration": 0.046145,
     "end_time": "2023-11-19T18:41:14.052528",
     "exception": false,
     "start_time": "2023-11-19T18:41:14.006383",
     "status": "completed"
    },
    "tags": []
   },
   "outputs": [],
   "source": [
    "predictions = final_model.predict(X)"
   ]
  },
  {
   "cell_type": "code",
   "execution_count": 9,
   "id": "602858c0",
   "metadata": {
    "execution": {
     "iopub.execute_input": "2023-11-19T18:41:14.085869Z",
     "iopub.status.busy": "2023-11-19T18:41:14.085400Z",
     "iopub.status.idle": "2023-11-19T18:41:14.104721Z",
     "shell.execute_reply": "2023-11-19T18:41:14.103730Z"
    },
    "papermill": {
     "duration": 0.039872,
     "end_time": "2023-11-19T18:41:14.107428",
     "exception": false,
     "start_time": "2023-11-19T18:41:14.067556",
     "status": "completed"
    },
    "tags": []
   },
   "outputs": [],
   "source": [
    "submission = pd.DataFrame()\n",
    "submission['Id'] = test_df['Id']\n",
    "submission['SalePrice'] = predictions\n",
    "submission.to_csv('submision.csv', index = False)"
   ]
  },
  {
   "cell_type": "code",
   "execution_count": 10,
   "id": "11d862bc",
   "metadata": {
    "execution": {
     "iopub.execute_input": "2023-11-19T18:41:14.138497Z",
     "iopub.status.busy": "2023-11-19T18:41:14.137564Z",
     "iopub.status.idle": "2023-11-19T18:41:14.142864Z",
     "shell.execute_reply": "2023-11-19T18:41:14.141744Z"
    },
    "papermill": {
     "duration": 0.023493,
     "end_time": "2023-11-19T18:41:14.145339",
     "exception": false,
     "start_time": "2023-11-19T18:41:14.121846",
     "status": "completed"
    },
    "tags": []
   },
   "outputs": [],
   "source": [
    "#That is my first model of ML so don't rate it like a pro work.. "
   ]
  }
 ],
 "metadata": {
  "kaggle": {
   "accelerator": "none",
   "dataSources": [
    {
     "databundleVersionId": 868283,
     "sourceId": 5407,
     "sourceType": "competition"
    }
   ],
   "dockerImageVersionId": 30587,
   "isGpuEnabled": false,
   "isInternetEnabled": true,
   "language": "python",
   "sourceType": "notebook"
  },
  "kernelspec": {
   "display_name": "Python 3",
   "language": "python",
   "name": "python3"
  },
  "language_info": {
   "codemirror_mode": {
    "name": "ipython",
    "version": 3
   },
   "file_extension": ".py",
   "mimetype": "text/x-python",
   "name": "python",
   "nbconvert_exporter": "python",
   "pygments_lexer": "ipython3",
   "version": "3.10.12"
  },
  "papermill": {
   "default_parameters": {},
   "duration": 114.224643,
   "end_time": "2023-11-19T18:41:14.982738",
   "environment_variables": {},
   "exception": null,
   "input_path": "__notebook__.ipynb",
   "output_path": "__notebook__.ipynb",
   "parameters": {},
   "start_time": "2023-11-19T18:39:20.758095",
   "version": "2.4.0"
  }
 },
 "nbformat": 4,
 "nbformat_minor": 5
}
